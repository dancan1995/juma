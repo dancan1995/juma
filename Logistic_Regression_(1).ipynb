{
  "cells": [
    {
      "cell_type": "markdown",
      "metadata": {
        "id": "wuJzhs4GYNCr"
      },
      "source": [
        "# Programming: Logistic Regression\n",
        "\n",
        "\n",
        "\n",
        "## Introduction\n",
        "\n",
        "I will implement logistic regression and apply it to two different datasets.\n"
      ]
    },
    {
      "cell_type": "code",
      "execution_count": null,
      "metadata": {
        "id": "Lgmshe1OYNCz"
      },
      "outputs": [],
      "source": [
        "import pandas as pd\n",
        "import numpy as np"
      ]
    },
    {
      "cell_type": "code",
      "execution_count": null,
      "metadata": {
        "id": "3Vbtwq43YNC3",
        "outputId": "e64775f7-9110-4a6c-992c-5cd0d7d501d8",
        "colab": {
          "base_uri": "https://localhost:8080/"
        }
      },
      "outputs": [
        {
          "output_type": "stream",
          "name": "stdout",
          "text": [
            "size of samples: 100\n"
          ]
        }
      ],
      "source": [
        "  students = pd.read_csv(\"ex2data1.txt\", names=[\"First_Exam\", \"Second_Exam\", \"Admission_Status\"])\n",
        "  # type casting from pandas series and pandas dataframe to numpy array\n",
        "  X = np.array(students[[\"First_Exam\", \"Second_Exam\"]])\n",
        "  y = np.array(students[\"Admission_Status\"])\n",
        "  # size of dataset\n",
        "  number_of_samples = y.size\n",
        "  # size of X matrix, m= rows, n= features\n",
        "  m,n = X.shape\n",
        "  print('size of samples: {}'.format(number_of_samples))"
      ]
    },
    {
      "cell_type": "code",
      "execution_count": null,
      "metadata": {
        "id": "QJoJPpy3YNC7",
        "outputId": "edd5438c-fa1e-4691-99c0-25db1fb93087",
        "colab": {
          "base_uri": "https://localhost:8080/",
          "height": 226
        }
      },
      "outputs": [
        {
          "output_type": "execute_result",
          "data": {
            "text/plain": [
              "   First_Exam  Second_Exam  Admission_Status\n",
              "0   34.623660    78.024693                 0\n",
              "1   30.286711    43.894998                 0\n",
              "2   35.847409    72.902198                 0\n",
              "3   60.182599    86.308552                 1\n",
              "4   79.032736    75.344376                 1"
            ],
            "text/html": [
              "\n",
              "  <div id=\"df-c8a089c9-2b85-417e-93d3-3746321efecd\" class=\"colab-df-container\">\n",
              "    <div>\n",
              "<style scoped>\n",
              "    .dataframe tbody tr th:only-of-type {\n",
              "        vertical-align: middle;\n",
              "    }\n",
              "\n",
              "    .dataframe tbody tr th {\n",
              "        vertical-align: top;\n",
              "    }\n",
              "\n",
              "    .dataframe thead th {\n",
              "        text-align: right;\n",
              "    }\n",
              "</style>\n",
              "<table border=\"1\" class=\"dataframe\">\n",
              "  <thead>\n",
              "    <tr style=\"text-align: right;\">\n",
              "      <th></th>\n",
              "      <th>First_Exam</th>\n",
              "      <th>Second_Exam</th>\n",
              "      <th>Admission_Status</th>\n",
              "    </tr>\n",
              "  </thead>\n",
              "  <tbody>\n",
              "    <tr>\n",
              "      <th>0</th>\n",
              "      <td>34.623660</td>\n",
              "      <td>78.024693</td>\n",
              "      <td>0</td>\n",
              "    </tr>\n",
              "    <tr>\n",
              "      <th>1</th>\n",
              "      <td>30.286711</td>\n",
              "      <td>43.894998</td>\n",
              "      <td>0</td>\n",
              "    </tr>\n",
              "    <tr>\n",
              "      <th>2</th>\n",
              "      <td>35.847409</td>\n",
              "      <td>72.902198</td>\n",
              "      <td>0</td>\n",
              "    </tr>\n",
              "    <tr>\n",
              "      <th>3</th>\n",
              "      <td>60.182599</td>\n",
              "      <td>86.308552</td>\n",
              "      <td>1</td>\n",
              "    </tr>\n",
              "    <tr>\n",
              "      <th>4</th>\n",
              "      <td>79.032736</td>\n",
              "      <td>75.344376</td>\n",
              "      <td>1</td>\n",
              "    </tr>\n",
              "  </tbody>\n",
              "</table>\n",
              "</div>\n",
              "    <div class=\"colab-df-buttons\">\n",
              "\n",
              "  <div class=\"colab-df-container\">\n",
              "    <button class=\"colab-df-convert\" onclick=\"convertToInteractive('df-c8a089c9-2b85-417e-93d3-3746321efecd')\"\n",
              "            title=\"Convert this dataframe to an interactive table.\"\n",
              "            style=\"display:none;\">\n",
              "\n",
              "  <svg xmlns=\"http://www.w3.org/2000/svg\" height=\"24px\" viewBox=\"0 -960 960 960\">\n",
              "    <path d=\"M120-120v-720h720v720H120Zm60-500h600v-160H180v160Zm220 220h160v-160H400v160Zm0 220h160v-160H400v160ZM180-400h160v-160H180v160Zm440 0h160v-160H620v160ZM180-180h160v-160H180v160Zm440 0h160v-160H620v160Z\"/>\n",
              "  </svg>\n",
              "    </button>\n",
              "\n",
              "  <style>\n",
              "    .colab-df-container {\n",
              "      display:flex;\n",
              "      gap: 12px;\n",
              "    }\n",
              "\n",
              "    .colab-df-convert {\n",
              "      background-color: #E8F0FE;\n",
              "      border: none;\n",
              "      border-radius: 50%;\n",
              "      cursor: pointer;\n",
              "      display: none;\n",
              "      fill: #1967D2;\n",
              "      height: 32px;\n",
              "      padding: 0 0 0 0;\n",
              "      width: 32px;\n",
              "    }\n",
              "\n",
              "    .colab-df-convert:hover {\n",
              "      background-color: #E2EBFA;\n",
              "      box-shadow: 0px 1px 2px rgba(60, 64, 67, 0.3), 0px 1px 3px 1px rgba(60, 64, 67, 0.15);\n",
              "      fill: #174EA6;\n",
              "    }\n",
              "\n",
              "    .colab-df-buttons div {\n",
              "      margin-bottom: 4px;\n",
              "    }\n",
              "\n",
              "    [theme=dark] .colab-df-convert {\n",
              "      background-color: #3B4455;\n",
              "      fill: #D2E3FC;\n",
              "    }\n",
              "\n",
              "    [theme=dark] .colab-df-convert:hover {\n",
              "      background-color: #434B5C;\n",
              "      box-shadow: 0px 1px 3px 1px rgba(0, 0, 0, 0.15);\n",
              "      filter: drop-shadow(0px 1px 2px rgba(0, 0, 0, 0.3));\n",
              "      fill: #FFFFFF;\n",
              "    }\n",
              "  </style>\n",
              "\n",
              "    <script>\n",
              "      const buttonEl =\n",
              "        document.querySelector('#df-c8a089c9-2b85-417e-93d3-3746321efecd button.colab-df-convert');\n",
              "      buttonEl.style.display =\n",
              "        google.colab.kernel.accessAllowed ? 'block' : 'none';\n",
              "\n",
              "      async function convertToInteractive(key) {\n",
              "        const element = document.querySelector('#df-c8a089c9-2b85-417e-93d3-3746321efecd');\n",
              "        const dataTable =\n",
              "          await google.colab.kernel.invokeFunction('convertToInteractive',\n",
              "                                                    [key], {});\n",
              "        if (!dataTable) return;\n",
              "\n",
              "        const docLinkHtml = 'Like what you see? Visit the ' +\n",
              "          '<a target=\"_blank\" href=https://colab.research.google.com/notebooks/data_table.ipynb>data table notebook</a>'\n",
              "          + ' to learn more about interactive tables.';\n",
              "        element.innerHTML = '';\n",
              "        dataTable['output_type'] = 'display_data';\n",
              "        await google.colab.output.renderOutput(dataTable, element);\n",
              "        const docLink = document.createElement('div');\n",
              "        docLink.innerHTML = docLinkHtml;\n",
              "        element.appendChild(docLink);\n",
              "      }\n",
              "    </script>\n",
              "  </div>\n",
              "\n",
              "\n",
              "<div id=\"df-3c504b28-dc89-4bfc-9196-0a14f6087ce1\">\n",
              "  <button class=\"colab-df-quickchart\" onclick=\"quickchart('df-3c504b28-dc89-4bfc-9196-0a14f6087ce1')\"\n",
              "            title=\"Suggest charts\"\n",
              "            style=\"display:none;\">\n",
              "\n",
              "<svg xmlns=\"http://www.w3.org/2000/svg\" height=\"24px\"viewBox=\"0 0 24 24\"\n",
              "     width=\"24px\">\n",
              "    <g>\n",
              "        <path d=\"M19 3H5c-1.1 0-2 .9-2 2v14c0 1.1.9 2 2 2h14c1.1 0 2-.9 2-2V5c0-1.1-.9-2-2-2zM9 17H7v-7h2v7zm4 0h-2V7h2v10zm4 0h-2v-4h2v4z\"/>\n",
              "    </g>\n",
              "</svg>\n",
              "  </button>\n",
              "\n",
              "<style>\n",
              "  .colab-df-quickchart {\n",
              "      --bg-color: #E8F0FE;\n",
              "      --fill-color: #1967D2;\n",
              "      --hover-bg-color: #E2EBFA;\n",
              "      --hover-fill-color: #174EA6;\n",
              "      --disabled-fill-color: #AAA;\n",
              "      --disabled-bg-color: #DDD;\n",
              "  }\n",
              "\n",
              "  [theme=dark] .colab-df-quickchart {\n",
              "      --bg-color: #3B4455;\n",
              "      --fill-color: #D2E3FC;\n",
              "      --hover-bg-color: #434B5C;\n",
              "      --hover-fill-color: #FFFFFF;\n",
              "      --disabled-bg-color: #3B4455;\n",
              "      --disabled-fill-color: #666;\n",
              "  }\n",
              "\n",
              "  .colab-df-quickchart {\n",
              "    background-color: var(--bg-color);\n",
              "    border: none;\n",
              "    border-radius: 50%;\n",
              "    cursor: pointer;\n",
              "    display: none;\n",
              "    fill: var(--fill-color);\n",
              "    height: 32px;\n",
              "    padding: 0;\n",
              "    width: 32px;\n",
              "  }\n",
              "\n",
              "  .colab-df-quickchart:hover {\n",
              "    background-color: var(--hover-bg-color);\n",
              "    box-shadow: 0 1px 2px rgba(60, 64, 67, 0.3), 0 1px 3px 1px rgba(60, 64, 67, 0.15);\n",
              "    fill: var(--button-hover-fill-color);\n",
              "  }\n",
              "\n",
              "  .colab-df-quickchart-complete:disabled,\n",
              "  .colab-df-quickchart-complete:disabled:hover {\n",
              "    background-color: var(--disabled-bg-color);\n",
              "    fill: var(--disabled-fill-color);\n",
              "    box-shadow: none;\n",
              "  }\n",
              "\n",
              "  .colab-df-spinner {\n",
              "    border: 2px solid var(--fill-color);\n",
              "    border-color: transparent;\n",
              "    border-bottom-color: var(--fill-color);\n",
              "    animation:\n",
              "      spin 1s steps(1) infinite;\n",
              "  }\n",
              "\n",
              "  @keyframes spin {\n",
              "    0% {\n",
              "      border-color: transparent;\n",
              "      border-bottom-color: var(--fill-color);\n",
              "      border-left-color: var(--fill-color);\n",
              "    }\n",
              "    20% {\n",
              "      border-color: transparent;\n",
              "      border-left-color: var(--fill-color);\n",
              "      border-top-color: var(--fill-color);\n",
              "    }\n",
              "    30% {\n",
              "      border-color: transparent;\n",
              "      border-left-color: var(--fill-color);\n",
              "      border-top-color: var(--fill-color);\n",
              "      border-right-color: var(--fill-color);\n",
              "    }\n",
              "    40% {\n",
              "      border-color: transparent;\n",
              "      border-right-color: var(--fill-color);\n",
              "      border-top-color: var(--fill-color);\n",
              "    }\n",
              "    60% {\n",
              "      border-color: transparent;\n",
              "      border-right-color: var(--fill-color);\n",
              "    }\n",
              "    80% {\n",
              "      border-color: transparent;\n",
              "      border-right-color: var(--fill-color);\n",
              "      border-bottom-color: var(--fill-color);\n",
              "    }\n",
              "    90% {\n",
              "      border-color: transparent;\n",
              "      border-bottom-color: var(--fill-color);\n",
              "    }\n",
              "  }\n",
              "</style>\n",
              "\n",
              "  <script>\n",
              "    async function quickchart(key) {\n",
              "      const quickchartButtonEl =\n",
              "        document.querySelector('#' + key + ' button');\n",
              "      quickchartButtonEl.disabled = true;  // To prevent multiple clicks.\n",
              "      quickchartButtonEl.classList.add('colab-df-spinner');\n",
              "      try {\n",
              "        const charts = await google.colab.kernel.invokeFunction(\n",
              "            'suggestCharts', [key], {});\n",
              "      } catch (error) {\n",
              "        console.error('Error during call to suggestCharts:', error);\n",
              "      }\n",
              "      quickchartButtonEl.classList.remove('colab-df-spinner');\n",
              "      quickchartButtonEl.classList.add('colab-df-quickchart-complete');\n",
              "    }\n",
              "    (() => {\n",
              "      let quickchartButtonEl =\n",
              "        document.querySelector('#df-3c504b28-dc89-4bfc-9196-0a14f6087ce1 button');\n",
              "      quickchartButtonEl.style.display =\n",
              "        google.colab.kernel.accessAllowed ? 'block' : 'none';\n",
              "    })();\n",
              "  </script>\n",
              "</div>\n",
              "\n",
              "    </div>\n",
              "  </div>\n"
            ],
            "application/vnd.google.colaboratory.intrinsic+json": {
              "type": "dataframe",
              "variable_name": "students",
              "summary": "{\n  \"name\": \"students\",\n  \"rows\": 100,\n  \"fields\": [\n    {\n      \"column\": \"First_Exam\",\n      \"properties\": {\n        \"dtype\": \"number\",\n        \"std\": 19.458222275425072,\n        \"min\": 30.05882244669796,\n        \"max\": 99.82785779692128,\n        \"num_unique_values\": 100,\n        \"samples\": [\n          57.23870631569862,\n          34.52451385320009,\n          32.72283304060323\n        ],\n        \"semantic_type\": \"\",\n        \"description\": \"\"\n      }\n    },\n    {\n      \"column\": \"Second_Exam\",\n      \"properties\": {\n        \"dtype\": \"number\",\n        \"std\": 18.582783039307344,\n        \"min\": 30.60326323428011,\n        \"max\": 98.86943574220612,\n        \"num_unique_values\": 100,\n        \"samples\": [\n          59.51428198012956,\n          60.39634245837173,\n          43.30717306430063\n        ],\n        \"semantic_type\": \"\",\n        \"description\": \"\"\n      }\n    },\n    {\n      \"column\": \"Admission_Status\",\n      \"properties\": {\n        \"dtype\": \"number\",\n        \"std\": 0,\n        \"min\": 0,\n        \"max\": 1,\n        \"num_unique_values\": 2,\n        \"samples\": [\n          1,\n          0\n        ],\n        \"semantic_type\": \"\",\n        \"description\": \"\"\n      }\n    }\n  ]\n}"
            }
          },
          "metadata": {},
          "execution_count": 3
        }
      ],
      "source": [
        "students.head()"
      ]
    },
    {
      "cell_type": "markdown",
      "metadata": {
        "id": "O9dmFnIOYNC8"
      },
      "source": [
        "### 1.1 Visualizing the data\n",
        "\n",
        "Before starting to implement any learning algorithm, it is always good to visualize the data if possible.\n",
        "please visualize the first dataset using the package `matplotlib`."
      ]
    },
    {
      "cell_type": "code",
      "execution_count": null,
      "metadata": {
        "id": "D_6f2k9tYNC9"
      },
      "outputs": [],
      "source": [
        "import matplotlib.pyplot as plt"
      ]
    },
    {
      "cell_type": "code",
      "execution_count": null,
      "metadata": {
        "id": "sMXCCMgpYNC-",
        "colab": {
          "base_uri": "https://localhost:8080/",
          "height": 510
        },
        "outputId": "0f14a99a-298c-4d80-ef44-ae4bde5ce180"
      },
      "outputs": [
        {
          "output_type": "stream",
          "name": "stdout",
          "text": [
            "size of samples: 100\n"
          ]
        },
        {
          "output_type": "display_data",
          "data": {
            "text/plain": [
              "<Figure size 640x480 with 1 Axes>"
            ],
            "image/png": "[encoded data removed]"
          },
          "metadata": {}
        }
      ],
      "source": [
        "# Type casting from pandas series and pandas dataframe to numpy array\n",
        "X = np.array(students[[\"First_Exam\", \"Second_Exam\"]])\n",
        "y = np.array(students[\"Admission_Status\"])\n",
        "\n",
        "# Size of dataset\n",
        "number_of_samples = y.size\n",
        "\n",
        "# Size of X matrix, m= rows, n= features\n",
        "m, n = X.shape\n",
        "\n",
        "# Print size of samples\n",
        "print('size of samples: {}'.format(number_of_samples))\n",
        "\n",
        "# Visualize the data\n",
        "def plot_data(X, y):\n",
        "    # Create a new figure\n",
        "    plt.figure()\n",
        "\n",
        "    # Separate the positive and negative examples\n",
        "    pos = y == 1\n",
        "    neg = y == 0\n",
        "\n",
        "    # Plot positive examples\n",
        "    plt.scatter(X[pos, 0], X[pos, 1], c='b', marker='+', label='Admitted')\n",
        "\n",
        "    # Plot negative examples\n",
        "    plt.scatter(X[neg, 0], X[neg, 1], c='r', marker='o', label='Not admitted')\n",
        "\n",
        "    # Set the plot labels and title\n",
        "    plt.xlabel('First Exam Score')\n",
        "    plt.ylabel('Second Exam Score')\n",
        "    plt.title('Exam Scores vs. Admission Status')\n",
        "\n",
        "    # Add legend\n",
        "    plt.legend()\n",
        "\n",
        "    # Show the plot\n",
        "    plt.show()\n",
        "\n",
        "plot_data(X, y)"
      ]
    },
    {
      "cell_type": "markdown",
      "metadata": {
        "id": "QJEHey_0YNDA"
      },
      "source": [
        "### 1.2 Implementation\n",
        "\n",
        "#### 1.2.1 sigmoid function\n",
        "\n"
      ]
    },
    {
      "cell_type": "code",
      "execution_count": null,
      "metadata": {
        "id": "7WOpqf5QYNDB",
        "colab": {
          "base_uri": "https://localhost:8080/"
        },
        "outputId": "688a202c-8d28-4ddf-c133-e7b9d36f3dc1"
      },
      "outputs": [
        {
          "output_type": "stream",
          "name": "stdout",
          "text": [
            "0.5\n",
            "0.8807970779778823\n",
            "0.11920292202211755\n",
            "[0.5        0.88079708 0.11920292]\n",
            "[[0.5        0.88079708 0.11920292]\n",
            " [0.73105858 0.26894142 0.95257413]]\n"
          ]
        }
      ],
      "source": [
        "def sigmoid(z):\n",
        "    \"\"\"\n",
        "    Compute sigmoid function given the input z.\n",
        "\n",
        "    Parameters\n",
        "    ----------\n",
        "    z : array_like\n",
        "        The input to the sigmoid function. This can be a 1-D vector\n",
        "        or a 2-D matrix.\n",
        "\n",
        "    Returns\n",
        "    -------\n",
        "    g : array_like\n",
        "        The computed sigmoid function. g has the same shape as z, since\n",
        "        the sigmoid is computed element-wise on z.\n",
        "    \"\"\"\n",
        "    g = 1 / (1 + np.exp(-z))\n",
        "    return g\n",
        "\n",
        "# Test the sigmoid function with a few values\n",
        "print(sigmoid(0))        # Should be 0.5\n",
        "print(sigmoid(2))        # Should be close to 0.8808\n",
        "print(sigmoid(-2))       # Should be close to 0.1192\n",
        "print(sigmoid(np.array([0, 2, -2])))  # Should be [0.5, 0.8808, 0.1192]\n",
        "\n",
        "# Test the sigmoid function with a matrix\n",
        "matrix = np.array([[0, 2, -2], [1, -1, 3]])\n",
        "print(sigmoid(matrix))   # Should be [[0.5, 0.8808, 0.1192], [0.7311, 0.2689, 0.9526]]"
      ]
    },
    {
      "cell_type": "code",
      "execution_count": null,
      "metadata": {
        "id": "F5TRpKrwYNDD",
        "outputId": "1f87f92f-ac4b-4f4a-c0b8-229e0d33b366",
        "colab": {
          "base_uri": "https://localhost:8080/"
        }
      },
      "outputs": [
        {
          "output_type": "stream",
          "name": "stdout",
          "text": [
            "Actual value of sigmoid(0) should be 0.5\n",
            "Computed value of sigmoid(0) is 0.5\n"
          ]
        }
      ],
      "source": [
        "# test sigmoid function\n",
        "z = 0\n",
        "g = sigmoid(z)\n",
        "\n",
        "print(\"Actual value of sigmoid(0) should be 0.5\")\n",
        "print(\"Computed value of sigmoid(0) is {sigmoid}\".format(sigmoid= g))"
      ]
    },
    {
      "cell_type": "markdown",
      "metadata": {
        "id": "XE_NEv3lYNDE"
      },
      "source": [
        "#### 1.2.2 Cost function and gradient\n",
        "\n",
        "Now I implemented the cost function and gradient for logistic regression. Before proceeding we add the intercept term to X.\n"
      ]
    },
    {
      "cell_type": "code",
      "execution_count": null,
      "metadata": {
        "id": "72Nbj6cGYNDG",
        "colab": {
          "base_uri": "https://localhost:8080/"
        },
        "outputId": "198fe3aa-0e0a-4219-a65e-a62d6162198a"
      },
      "outputs": [
        {
          "output_type": "stream",
          "name": "stdout",
          "text": [
            "Updated X matrix with intercept term:\n",
            " [[ 1.         34.62365962 78.02469282]\n",
            " [ 1.         30.28671077 43.89499752]\n",
            " [ 1.         35.84740877 72.90219803]\n",
            " [ 1.         60.18259939 86.3085521 ]\n",
            " [ 1.         79.03273605 75.34437644]\n",
            " [ 1.         45.08327748 56.31637178]\n",
            " [ 1.         61.10666454 96.51142588]\n",
            " [ 1.         75.02474557 46.55401354]\n",
            " [ 1.         76.0987867  87.42056972]\n",
            " [ 1.         84.43281996 43.53339331]\n",
            " [ 1.         95.86155507 38.22527806]\n",
            " [ 1.         75.01365839 30.60326323]\n",
            " [ 1.         82.30705337 76.4819633 ]\n",
            " [ 1.         69.36458876 97.71869196]\n",
            " [ 1.         39.53833914 76.03681085]\n",
            " [ 1.         53.97105215 89.20735014]\n",
            " [ 1.         69.07014406 52.74046973]\n",
            " [ 1.         67.94685548 46.67857411]\n",
            " [ 1.         70.66150955 92.92713789]\n",
            " [ 1.         76.97878373 47.57596365]\n",
            " [ 1.         67.37202755 42.83843832]\n",
            " [ 1.         89.67677575 65.79936593]\n",
            " [ 1.         50.53478829 48.85581153]\n",
            " [ 1.         34.21206098 44.2095286 ]\n",
            " [ 1.         77.92409145 68.97235999]\n",
            " [ 1.         62.27101367 69.95445795]\n",
            " [ 1.         80.19018075 44.82162893]\n",
            " [ 1.         93.1143888  38.80067034]\n",
            " [ 1.         61.83020602 50.25610789]\n",
            " [ 1.         38.7858038  64.99568096]\n",
            " [ 1.         61.37928945 72.80788731]\n",
            " [ 1.         85.40451939 57.05198398]\n",
            " [ 1.         52.10797973 63.12762377]\n",
            " [ 1.         52.04540477 69.43286012]\n",
            " [ 1.         40.23689374 71.16774802]\n",
            " [ 1.         54.63510555 52.21388588]\n",
            " [ 1.         33.91550011 98.86943574]\n",
            " [ 1.         64.17698887 80.90806059]\n",
            " [ 1.         74.78925296 41.57341523]\n",
            " [ 1.         34.18364003 75.23772034]\n",
            " [ 1.         83.90239366 56.30804622]\n",
            " [ 1.         51.54772027 46.85629026]\n",
            " [ 1.         94.44336777 65.56892161]\n",
            " [ 1.         82.36875376 40.61825516]\n",
            " [ 1.         51.04775177 45.82270146]\n",
            " [ 1.         62.22267576 52.06099195]\n",
            " [ 1.         77.19303493 70.4582    ]\n",
            " [ 1.         97.77159928 86.72782233]\n",
            " [ 1.         62.0730638  96.76882412]\n",
            " [ 1.         91.5649745  88.69629255]\n",
            " [ 1.         79.94481794 74.16311935]\n",
            " [ 1.         99.27252693 60.999031  ]\n",
            " [ 1.         90.54671411 43.39060181]\n",
            " [ 1.         34.52451385 60.39634246]\n",
            " [ 1.         50.28649612 49.80453881]\n",
            " [ 1.         49.58667722 59.80895099]\n",
            " [ 1.         97.64563396 68.86157272]\n",
            " [ 1.         32.57720017 95.59854761]\n",
            " [ 1.         74.24869137 69.82457123]\n",
            " [ 1.         71.79646206 78.45356225]\n",
            " [ 1.         75.39561147 85.75993667]\n",
            " [ 1.         35.28611282 47.02051395]\n",
            " [ 1.         56.2538175  39.26147251]\n",
            " [ 1.         30.05882245 49.59297387]\n",
            " [ 1.         44.66826172 66.45008615]\n",
            " [ 1.         66.56089447 41.09209808]\n",
            " [ 1.         40.45755098 97.53518549]\n",
            " [ 1.         49.07256322 51.88321182]\n",
            " [ 1.         80.27957401 92.11606081]\n",
            " [ 1.         66.74671857 60.99139403]\n",
            " [ 1.         32.72283304 43.30717306]\n",
            " [ 1.         64.03932042 78.03168802]\n",
            " [ 1.         72.34649423 96.22759297]\n",
            " [ 1.         60.45788574 73.0949981 ]\n",
            " [ 1.         58.84095622 75.85844831]\n",
            " [ 1.         99.8278578  72.36925193]\n",
            " [ 1.         47.26426911 88.475865  ]\n",
            " [ 1.         50.4581598  75.80985953]\n",
            " [ 1.         60.45555629 42.50840944]\n",
            " [ 1.         82.22666158 42.71987854]\n",
            " [ 1.         88.91389642 69.8037889 ]\n",
            " [ 1.         94.83450672 45.6943068 ]\n",
            " [ 1.         67.31925747 66.58935318]\n",
            " [ 1.         57.23870632 59.51428198]\n",
            " [ 1.         80.366756   90.9601479 ]\n",
            " [ 1.         68.46852179 85.5943071 ]\n",
            " [ 1.         42.07545454 78.844786  ]\n",
            " [ 1.         75.47770201 90.424539  ]\n",
            " [ 1.         78.63542435 96.64742717]\n",
            " [ 1.         52.34800399 60.76950526]\n",
            " [ 1.         94.09433113 77.15910509]\n",
            " [ 1.         90.44855097 87.50879176]\n",
            " [ 1.         55.48216114 35.57070347]\n",
            " [ 1.         74.49269242 84.84513685]\n",
            " [ 1.         89.84580671 45.35828361]\n",
            " [ 1.         83.48916274 48.3802858 ]\n",
            " [ 1.         42.26170081 87.10385094]\n",
            " [ 1.         99.31500881 68.77540947]\n",
            " [ 1.         55.34001756 64.93193801]\n",
            " [ 1.         74.775893   89.5298129 ]]\n",
            "Theta (including bias term):\n",
            " [-0.94819245 -2.09219095  1.16002714]\n"
          ]
        }
      ],
      "source": [
        "# add intercept term to martix X\n",
        "X = np.concatenate([np.ones((len(X), 1)), X], axis= 1)\n",
        "### make  theta_0 as the bias term\n",
        "# Initialize theta (including theta_0 as the bias term)\n",
        "# For demonstration, let's initialize theta with random values\n",
        "theta = np.random.randn(X.shape[1])\n",
        "\n",
        "print(\"Updated X matrix with intercept term:\\n\", X)\n",
        "print(\"Theta (including bias term):\\n\", theta)"
      ]
    },
    {
      "cell_type": "code",
      "execution_count": null,
      "metadata": {
        "id": "MbLJncvRYNDI"
      },
      "outputs": [],
      "source": [
        "def sigmoid(z):\n",
        "    return 1 / (1 + np.exp(-z))\n",
        "\n",
        "def cost_function(theta, X, y):\n",
        "    \"\"\"\n",
        "    Compute the cost function for logistic regression.\n",
        "\n",
        "    Parameters\n",
        "    ----------\n",
        "    theta : array_like\n",
        "        The parameters for logistic regression. This is a vector\n",
        "        of shape (n+1, ).\n",
        "\n",
        "    X : array_like\n",
        "        The input dataset of shape (m x n+1) where m is the total number\n",
        "        of data points and n is the number of features. We assume the\n",
        "        intercept has already been added to the input.\n",
        "\n",
        "    y : array_like\n",
        "        Labels for the input. This is a vector of shape (m, ).\n",
        "\n",
        "    Returns\n",
        "    -------\n",
        "    J : float\n",
        "        The computed value for the cost function.\n",
        "    \"\"\"\n",
        "    m = y.size\n",
        "    h = sigmoid(np.dot(X, theta))\n",
        "    J = (1/m) * np.sum(-y * np.log(h) - (1 - y) * np.log(1 - h))\n",
        "    return J"
      ]
    },
    {
      "cell_type": "code",
      "execution_count": null,
      "metadata": {
        "id": "mnbXuL_dYNDJ"
      },
      "outputs": [],
      "source": [
        "def gradient_descent(theta, X, y):\n",
        "    \"\"\"\n",
        "    Compute gradient for logistic regression.\n",
        "\n",
        "    Parameters\n",
        "    ----------\n",
        "    theta : array_like\n",
        "        The parameters for logistic regression. This is a vector\n",
        "        of shape (n+1, ).\n",
        "\n",
        "    X : array_like\n",
        "        The input dataset of shape (m x n+1) where m is the total number\n",
        "        of data points and n is the number of features. We assume the\n",
        "        intercept has already been added to the input.\n",
        "\n",
        "    y : array_like\n",
        "        Labels for the input. This is a vector of shape (m, ).\n",
        "\n",
        "    Returns\n",
        "    -------\n",
        "    grad : array_like\n",
        "        A vector of shape (n+1, ) which is the gradient of the cost\n",
        "        function with respect to theta, at the current values of theta.\n",
        "    \"\"\"\n",
        "    m = y.size\n",
        "    h = sigmoid(np.dot(X, theta))\n",
        "    grad = (1/m) * np.dot(X.T, (h - y))\n",
        "    return grad"
      ]
    },
    {
      "cell_type": "code",
      "execution_count": null,
      "metadata": {
        "id": "2_13jB6zaEjO",
        "colab": {
          "base_uri": "https://localhost:8080/"
        },
        "outputId": "49f2688d-a473-45b5-ec94-bc8c391a2280"
      },
      "outputs": [
        {
          "output_type": "stream",
          "name": "stdout",
          "text": [
            "Cost at initial theta (zeros): 0.6931471805599454\n",
            "Expected cost (approx): 0.693\n",
            "Gradient at initial theta (zeros):\n",
            "[ 0.1       -3.8457555  3.3168961]\n",
            "Expected gradients (approx): [-0.1 -12.0092 -11.2628]\n"
          ]
        }
      ],
      "source": [
        "### check the gradient and with theta=np.zeros(n+1)\n",
        "\n",
        "# Test the implementation\n",
        "data = {\n",
        "    \"First_Exam\": [34.623660, 30.286711, 35.847409, 60.182599, 79.032736],\n",
        "    \"Second_Exam\": [78.024693, 43.894998, 72.902198, 86.308552, 75.344376],\n",
        "    \"Admission_Status\": [0, 0, 0, 1, 1]\n",
        "}\n",
        "\n",
        "students = pd.DataFrame(data)\n",
        "X = np.array(students[[\"First_Exam\", \"Second_Exam\"]])\n",
        "y = np.array(students[\"Admission_Status\"])\n",
        "\n",
        "# Add intercept term to matrix X\n",
        "X = np.concatenate([np.ones((len(X), 1)), X], axis=1)\n",
        "\n",
        "# Initialize theta\n",
        "theta = np.zeros(X.shape[1])\n",
        "\n",
        "# Compute cost and gradient\n",
        "cost = cost_function(theta, X, y)\n",
        "grad = gradient_descent(theta, X, y)\n",
        "\n",
        "print(\"Cost at initial theta (zeros):\", cost)\n",
        "print(\"Expected cost (approx): 0.693\")\n",
        "print(\"Gradient at initial theta (zeros):\")\n",
        "print(grad)\n",
        "print(\"Expected gradients (approx): [-0.1 -12.0092 -11.2628]\")"
      ]
    },
    {
      "cell_type": "code",
      "execution_count": null,
      "metadata": {
        "id": "TkoCN__pYNDK",
        "outputId": "eaaaf4f7-3210-45cf-a56e-ca4323a584dc",
        "colab": {
          "base_uri": "https://localhost:8080/"
        }
      },
      "outputs": [
        {
          "output_type": "stream",
          "name": "stdout",
          "text": [
            "Shape of cost value is: 0.6931471805599454\n",
            "Shape of grad is: (3,)\n"
          ]
        }
      ],
      "source": [
        "initial_theta = np.zeros(n+1)\n",
        "grad = gradient_descent(initial_theta, X, y)\n",
        "cost = cost_function(initial_theta,X,y)\n",
        "print(\"Shape of cost value is: {}\".format(cost))\n",
        "print(\"Shape of grad is: {}\".format(grad.shape))"
      ]
    },
    {
      "cell_type": "markdown",
      "metadata": {
        "id": "ytZavnq1djZ8"
      },
      "source": [
        "### calculate the optimal theta using stochastic gradient deacent\n",
        "\n",
        "\n"
      ]
    },
    {
      "cell_type": "code",
      "execution_count": null,
      "metadata": {
        "id": "IZCX99tbdsyB",
        "colab": {
          "base_uri": "https://localhost:8080/"
        },
        "outputId": "04a99456-6ab5-4590-ab98-fcbaffc77ca5"
      },
      "outputs": [
        {
          "output_type": "stream",
          "name": "stdout",
          "text": [
            "Optimized theta:\n",
            " [-1.73243776 -0.91980613  3.18300242 -2.05516079]\n"
          ]
        }
      ],
      "source": [
        "def train_using_sgd(theta, X, y, learning_rate=0.01, epochs=100):\n",
        "    \"\"\"\n",
        "    Perform stochastic gradient descent to train the logistic regression model.\n",
        "\n",
        "    Parameters:\n",
        "    theta : numpy array\n",
        "        Initial weights including the bias term.\n",
        "    X : numpy array\n",
        "        Feature matrix with intercept term added as the first column.\n",
        "    y : numpy array\n",
        "        Target values.\n",
        "    learning_rate : float, optional\n",
        "        Learning rate for gradient descent (default is 0.01).\n",
        "    epochs : int, optional\n",
        "        Number of epochs to run SGD (default is 100).\n",
        "\n",
        "    Returns:\n",
        "    theta : numpy array\n",
        "        Optimized weights including the bias term.\n",
        "    \"\"\"\n",
        "    m = len(y)  # Number of training examples\n",
        "\n",
        "    for epoch in range(epochs):\n",
        "        for i in range(m):\n",
        "            xi = X[i, :].reshape(1, -1)\n",
        "            yi = y[i]\n",
        "\n",
        "            # Compute the hypothesis\n",
        "            h = sigmoid(np.dot(xi, theta))\n",
        "\n",
        "            # Compute the error\n",
        "            error = h - yi\n",
        "\n",
        "            # Compute the gradient\n",
        "            gradient = error * xi\n",
        "\n",
        "            # Update the parameters\n",
        "            theta -= learning_rate * gradient.ravel()\n",
        "\n",
        "    return theta\n",
        "\n",
        "# Example usage:\n",
        "# Assuming you have X, y, and theta initialized appropriately\n",
        "# Initialize the intercept term in X\n",
        "X = np.concatenate([np.ones((len(X), 1)), X], axis=1)\n",
        "\n",
        "# Initialize theta (including theta_0 as the bias term)\n",
        "theta = np.random.randn(X.shape[1])\n",
        "\n",
        "# Train the logistic regression model using stochastic gradient descent\n",
        "theta_optimized = train_using_sgd(theta, X, y)\n",
        "\n",
        "print(\"Optimized theta:\\n\", theta_optimized)\n"
      ]
    },
    {
      "cell_type": "code",
      "execution_count": null,
      "metadata": {
        "id": "UfHQSp-7YNDQ",
        "outputId": "f3c50bd6-7e22-4ad7-86a1-c9c5e53e410b",
        "colab": {
          "base_uri": "https://localhost:8080/"
        }
      },
      "outputs": [
        {
          "output_type": "stream",
          "name": "stdout",
          "text": [
            "Optimized theta is: [-1.73243776 -0.91980613  3.18300242 -2.05516079]\n",
            "Optimized Cost value is: nan\n"
          ]
        },
        {
          "output_type": "stream",
          "name": "stderr",
          "text": [
            "<ipython-input-9-7eb6ea0269e2>:29: RuntimeWarning: divide by zero encountered in log\n",
            "  J = (1/m) * np.sum(-y * np.log(h) - (1 - y) * np.log(1 - h))\n",
            "<ipython-input-9-7eb6ea0269e2>:29: RuntimeWarning: invalid value encountered in multiply\n",
            "  J = (1/m) * np.sum(-y * np.log(h) - (1 - y) * np.log(1 - h))\n"
          ]
        }
      ],
      "source": [
        "print(\"Optimized theta is: {}\".format(theta_optimized))\n",
        "optimaize_cost = cost_function(theta_optimized,X,y)\n",
        "\n",
        "print(\"Optimized Cost value is: {:.4f}\".format(optimaize_cost))"
      ]
    },
    {
      "cell_type": "markdown",
      "metadata": {
        "id": "Sa89Zyq_bNSV"
      },
      "source": [
        "### Plot the decision boundary obtained from the logistic regression model trained using gradient descent\n",
        "\n",
        "---\n",
        "\n"
      ]
    },
    {
      "cell_type": "code",
      "execution_count": null,
      "metadata": {
        "id": "X7nZhBPQt0_l",
        "colab": {
          "base_uri": "https://localhost:8080/",
          "height": 510
        },
        "outputId": "84b6ea9d-fcad-4e68-cc41-eeff820921ae"
      },
      "outputs": [
        {
          "output_type": "stream",
          "name": "stdout",
          "text": [
            "Optimized theta: [-2.18605158  1.32719628 -0.88168253]\n"
          ]
        },
        {
          "output_type": "display_data",
          "data": {
            "text/plain": [
              "<Figure size 640x480 with 1 Axes>"
            ],
            "image/png": "[encoded data removed]"
          },
          "metadata": {}
        }
      ],
      "source": [
        "def cost_function(theta, X, y):\n",
        "    m = y.size\n",
        "    h = sigmoid(np.dot(X, theta))\n",
        "    J = (1/m) * np.sum(-y * np.log(h) - (1 - y) * np.log(1 - h))\n",
        "    return J\n",
        "\n",
        "def gradient_descent(theta, X, y, alpha, num_iters):\n",
        "    m = y.size\n",
        "    J_history = []\n",
        "    for _ in range(num_iters):\n",
        "        h = sigmoid(np.dot(X, theta))\n",
        "        theta -= (alpha/m) * np.dot(X.T, (h - y))\n",
        "        J_history.append(cost_function(theta, X, y))\n",
        "    return theta, J_history\n",
        "\n",
        "def plot_decision_boundary(theta, X, y):\n",
        "    # Plot data points\n",
        "    plt.figure()\n",
        "    plt.scatter(X[y == 1][:, 1], X[y == 1][:, 2], color='blue', marker='+', label='Admitted')\n",
        "    plt.scatter(X[y == 0][:, 1], X[y == 0][:, 2], color='red', marker='o', label='Not admitted')\n",
        "\n",
        "    # Plot decision boundary (when theta_0 + theta_1*x1 + theta_2*x2 = 0)\n",
        "    x1 = np.array([np.min(X[:, 1]), np.max(X[:, 1])])\n",
        "    x2 = -(theta[0] + theta[1]*x1) / theta[2]  # Solve for x2 when theta_0 + theta_1*x1 + theta_2*x2 = 0\n",
        "    plt.plot(x1, x2, color='green', label='Decision Boundary')\n",
        "\n",
        "    # Labels and Legend\n",
        "    plt.xlabel('First Exam Score')\n",
        "    plt.ylabel('Second Exam Score')\n",
        "    plt.title('Logistic Regression Decision Boundary')\n",
        "    plt.legend()\n",
        "\n",
        "    # Show plot\n",
        "    plt.show()\n",
        "\n",
        "# Simulate the dataset based on the provided head\n",
        "data = {\n",
        "    \"First_Exam\": [34.623660, 30.286711, 35.847409, 60.182599, 79.032736],\n",
        "    \"Second_Exam\": [78.024693, 43.894998, 72.902198, 86.308552, 75.344376],\n",
        "    \"Admission_Status\": [0, 0, 0, 1, 1]\n",
        "}\n",
        "\n",
        "students = pd.DataFrame(data)\n",
        "X = np.array(students[[\"First_Exam\", \"Second_Exam\"]])\n",
        "y = np.array(students[\"Admission_Status\"])\n",
        "\n",
        "# Add intercept term to matrix X\n",
        "X = np.concatenate([np.ones((len(X), 1)), X], axis=1)\n",
        "\n",
        "# Initialize theta\n",
        "theta = np.zeros(X.shape[1])\n",
        "\n",
        "# Set hyperparameters\n",
        "alpha = 0.001  # Learning rate\n",
        "num_iters = 50000  # Number of iterations\n",
        "\n",
        "# Train the model using gradient descent\n",
        "theta, J_history = gradient_descent(theta, X, y, alpha, num_iters)\n",
        "\n",
        "# Print the optimized theta\n",
        "print(\"Optimized theta:\", theta)\n",
        "\n",
        "# Plot the decision boundary\n",
        "plot_decision_boundary(theta, X, y)\n"
      ]
    },
    {
      "cell_type": "markdown",
      "metadata": {
        "id": "9LIZZSW8YNDS"
      },
      "source": [
        "#### 1.2.4 Evaluating logistic regression\n",
        "\n",
        "After learning the parameters, you can use the model to predict whether a particular student will be admitted. For a student with an Exam 1 score of 53 and an Exam 2 score of 94, print the admission\n",
        "probability."
      ]
    },
    {
      "cell_type": "code",
      "execution_count": null,
      "metadata": {
        "id": "bwlWbiQaYNDT"
      },
      "outputs": [],
      "source": [
        "def predict(theta, X):\n",
        "    \"\"\"\n",
        "    Predict whether the label is 0 or 1 using learned logistic regression.\n",
        "    Computes the predictions for X using a threshold at 0.5\n",
        "    (i.e., if sigmoid(theta.T*x) >= 0.5, predict 1)\n",
        "\n",
        "    Parameters\n",
        "    ----------\n",
        "    theta : array_like\n",
        "        Parameters for logistic regression. A vector of shape (n+1, ).\n",
        "\n",
        "    X : array_like\n",
        "        The data to use for computing predictions. The rows is the number\n",
        "        of points to compute predictions, and columns is the number of\n",
        "        features.\n",
        "\n",
        "    Returns\n",
        "    -------\n",
        "    p : array_like\n",
        "        Predictions and 0 or 1 for each row in X.\n",
        "    \"\"\"\n",
        "    # Add intercept term to X if not already added\n",
        "    if X.shape[1] == len(theta) - 1:\n",
        "        X = np.concatenate([np.ones((len(X), 1)), X], axis=1)\n",
        "\n",
        "    # Compute the hypothesis\n",
        "    h = sigmoid(np.dot(X, theta))\n",
        "\n",
        "    # Apply threshold of 0.5 to make predictions\n",
        "    p = h >= 0.5\n",
        "\n",
        "    # Convert boolean array to integers (0 or 1)\n",
        "    p = p.astype(int)\n",
        "\n",
        "    return p\n"
      ]
    },
    {
      "cell_type": "code",
      "execution_count": null,
      "metadata": {
        "id": "aJ5XmIlQYNDU"
      },
      "outputs": [],
      "source": [
        "def accuracy(y_pred, y):\n",
        "    \"\"\"\n",
        "    check prediction accuracy with comparison between predict and actual value\n",
        "    if two parameter(predicted and actual value) are equal diff will be 0 and\n",
        "    otherwise will be 1. count of nonzero devided by len of diff is errors. 1 minus\n",
        "    error is our prediction accuracy\n",
        "\n",
        "    Parameters\n",
        "    ----------\n",
        "    y_pred : array_like\n",
        "        Predicted values that output of predict function.\n",
        "\n",
        "    y : array_like\n",
        "        Actual value of data, (Labels)\n",
        "\n",
        "    Returns\n",
        "    -------\n",
        "    number : float\n",
        "        model accuracy percentage\n",
        "    \"\"\"\n",
        "    return accuracy"
      ]
    },
    {
      "cell_type": "markdown",
      "metadata": {
        "id": "TzT1r9bRYNDV"
      },
      "source": [
        "After you have completed the code in `predict`, we proceed to report the training accuracy of your classifier by computing the percentage of examples it got correct."
      ]
    },
    {
      "cell_type": "code",
      "execution_count": null,
      "metadata": {
        "id": "PKCiA5NBYNDV",
        "colab": {
          "base_uri": "https://localhost:8080/"
        },
        "outputId": "f3957eb9-0e01-4670-fecf-ca06e0c15bea"
      },
      "outputs": [
        {
          "output_type": "stream",
          "name": "stdout",
          "text": [
            "Predicted admission status for student with scores [45, 85]: 1\n",
            "Training Accuracy: 100.00%\n"
          ]
        }
      ],
      "source": [
        "# Predict probability for a student with score 45 on exam 1\n",
        "# and score 85 on exam 2\n",
        "\n",
        "\n",
        "# Example usage assuming theta is already learned\n",
        "theta = np.array([-25.1613, 0.2062, 0.2015])  # Example theta values for trained model\n",
        "\n",
        "# Predict probability for a student with score 45 on exam 1 and score 85 on exam 2\n",
        "scores = np.array([1, 45, 85])  # Adding 1 for intercept term\n",
        "predicted = predict(theta, scores.reshape(1, -1))\n",
        "\n",
        "print(\"Predicted admission status for student with scores [45, 85]:\", predicted[0])\n",
        "\n",
        "# Calculate training accuracy\n",
        "def accuracy(theta, X, y):\n",
        "    predictions = predict(theta, X)\n",
        "    correct = np.sum(predictions == y)\n",
        "    total = y.size\n",
        "    accuracy = (correct / total) * 100\n",
        "    return accuracy\n",
        "\n",
        "# Example usage to calculate training accuracy\n",
        "X_train = np.array([\n",
        "    [1, 34.623660, 78.024693],\n",
        "    [1, 30.286711, 43.894998],\n",
        "    [1, 35.847409, 72.902198],\n",
        "    [1, 60.182599, 86.308552],\n",
        "    [1, 79.032736, 75.344376]\n",
        "])\n",
        "y_train = np.array([0, 0, 0, 1, 1])\n",
        "\n",
        "# Calculate accuracy\n",
        "train_accuracy = accuracy(theta, X_train, y_train)\n",
        "print(\"Training Accuracy: {:.2f}%\".format(train_accuracy))\n"
      ]
    },
    {
      "cell_type": "markdown",
      "metadata": {
        "id": "DKXrf4DskIr7"
      },
      "source": [
        "plot the AUC and the ROC curve on your model"
      ]
    },
    {
      "cell_type": "code",
      "source": [
        "from sklearn.metrics import roc_curve, auc\n",
        "\n",
        "def predict_proba(theta, X):\n",
        "    \"\"\"\n",
        "    Predict probability using the logistic regression model.\n",
        "    \"\"\"\n",
        "    # Add intercept term to X if not already added\n",
        "    if X.shape[1] == len(theta) - 1:\n",
        "        X = np.concatenate([np.ones((len(X), 1)), X], axis=1)\n",
        "\n",
        "    # Compute the hypothesis\n",
        "    return sigmoid(np.dot(X, theta))\n",
        "\n",
        "# Example usage assuming theta is already learned\n",
        "theta = np.array([-25.1613, 0.2062, 0.2015])  # Example theta values for trained model\n",
        "\n",
        "# Example training data\n",
        "X_train = np.array([\n",
        "    [34.623660, 78.024693],\n",
        "    [30.286711, 43.894998],\n",
        "    [35.847409, 72.902198],\n",
        "    [60.182599, 86.308552],\n",
        "    [79.032736, 75.344376]\n",
        "])\n",
        "y_train = np.array([0, 0, 0, 1, 1])\n",
        "\n",
        "# Add intercept term to training data\n",
        "X_train = np.concatenate([np.ones((X_train.shape[0], 1)), X_train], axis=1)\n",
        "\n",
        "# Predict probabilities\n",
        "y_scores = predict_proba(theta, X_train)\n",
        "\n",
        "# Compute ROC curve and ROC area\n",
        "fpr, tpr, thresholds = roc_curve(y_train, y_scores)\n",
        "roc_auc = auc(fpr, tpr)\n",
        "\n",
        "# Plot ROC curve\n",
        "plt.figure()\n",
        "plt.plot(fpr, tpr, color='darkorange', lw=2, label='ROC curve (area = %0.2f)' % roc_auc)\n",
        "plt.plot([0, 1], [0, 1], color='navy', lw=2, linestyle='--')\n",
        "plt.xlim([0.0, 1.0])\n",
        "plt.ylim([0.0, 1.05])\n",
        "plt.xlabel('False Positive Rate')\n",
        "plt.ylabel('True Positive Rate')\n",
        "plt.title('Receiver Operating Characteristic (ROC) Curve')\n",
        "plt.legend(loc=\"lower right\")\n",
        "plt.show()\n"
      ],
      "metadata": {
        "colab": {
          "base_uri": "https://localhost:8080/",
          "height": 492
        },
        "id": "hK7qLseyIf-y",
        "outputId": "504aad33-78d1-4b97-9bc6-d1c9c1cc908b"
      },
      "execution_count": null,
      "outputs": [
        {
          "output_type": "display_data",
          "data": {
            "text/plain": [
              "<Figure size 640x480 with 1 Axes>"
            ],
            "image/png": "[encoded data removed]"
          },
          "metadata": {}
        }
      ]
    },
    {
      "cell_type": "markdown",
      "metadata": {
        "id": "WxyZkBEeYNDW"
      },
      "source": [
        "\n",
        "\n",
        "```\n",
        "# Plot ROC curve\n",
        "plt.figure()\n",
        "plt.plot(fpr, tpr, color='darkorange', lw=2, label='ROC curve (area = {:.2f})'.format(roc_auc))\n",
        "plt.plot([0, 1], [0, 1], color='navy', lw=2, linestyle='--')\n",
        "plt.xlim([0.0, 1.0])\n",
        "plt.ylim([0.0, 1.05])\n",
        "plt.xlabel('False Positive Rate')\n",
        "plt.ylabel('True Positive Rate')\n",
        "plt.title('Receiver Operating Characteristic (ROC) Curve')\n",
        "plt.legend(loc=\"lower right\")\n",
        "plt.show()\n",
        "```\n",
        "\n",
        "## Section 2 Regularized logistic regression\n"
      ]
    },
    {
      "cell_type": "code",
      "execution_count": null,
      "metadata": {
        "id": "hF8nHcddYNDX",
        "outputId": "0fd28edc-28be-4da7-b260-c37b65076da4",
        "colab": {
          "base_uri": "https://localhost:8080/"
        }
      },
      "outputs": [
        {
          "output_type": "stream",
          "name": "stdout",
          "text": [
            "size of samples: 118\n"
          ]
        }
      ],
      "source": [
        "microchips= pd.read_csv(\"ex2data2.txt\", names=[\"First_Test\", \"Second_Test\", \"Status\"])\n",
        "# type casting from pandas series and pandas dataframe to numpy array\n",
        "X = np.array(microchips[[\"First_Test\", \"Second_Test\"]])\n",
        "y = np.array(microchips[\"Status\"])\n",
        "# size of dataset\n",
        "number_of_samples = y.size\n",
        "# size of X matrix, m= rows, n= features\n",
        "m,n = X.shape\n",
        "print('size of samples: {}'.format(number_of_samples))"
      ]
    },
    {
      "cell_type": "markdown",
      "metadata": {
        "id": "VEFb4xoBYNDY"
      },
      "source": [
        "### 2.1 Visualize the data\n",
        "\n"
      ]
    },
    {
      "cell_type": "code",
      "execution_count": null,
      "metadata": {
        "id": "Fobsnaq-YNDZ",
        "colab": {
          "base_uri": "https://localhost:8080/",
          "height": 584
        },
        "outputId": "4fe7921d-f4a6-4669-dff8-801a88e9edca"
      },
      "outputs": [
        {
          "output_type": "display_data",
          "data": {
            "text/plain": [
              "<Figure size 800x600 with 1 Axes>"
            ],
            "image/png": "[encoded data removed]"
          },
          "metadata": {}
        }
      ],
      "source": [
        "# Type casting from pandas series and pandas dataframe to numpy array\n",
        "X = np.array(microchips[[\"First_Test\", \"Second_Test\"]])\n",
        "y = np.array(microchips[\"Status\"])\n",
        "\n",
        "# Separate positive and negative examples\n",
        "positive = X[y == 1]\n",
        "negative = X[y == 0]\n",
        "\n",
        "# Create the plot\n",
        "plt.figure(figsize=(8, 6))\n",
        "plt.scatter(positive[:, 0], positive[:, 1], c='b', marker='x', label='Accepted')\n",
        "plt.scatter(negative[:, 0], negative[:, 1], c='r', marker='o', label='Rejected')\n",
        "\n",
        "# Set plot labels and title\n",
        "plt.xlabel('First Test Score')\n",
        "plt.ylabel('Second Test Score')\n",
        "plt.title('Microchip Test Results')\n",
        "plt.legend()\n",
        "plt.show()"
      ]
    },
    {
      "cell_type": "markdown",
      "metadata": {
        "id": "lZTMweFEYNDa"
      },
      "source": [
        "The above figure shows that our dataset cannot be separated into positive and negative examples by a straight-line through the plot. Therefore, a straight-forward application of logistic regression will not perform well on this dataset since logistic regression will only be able to find a linear decision boundary.\n",
        "\n",
        "### 2.2 Feature mapping\n",
        "\n",
        "One way to fit the data better is to create more features from each data point. In the function `map_feature`, we will map the features into all polynomial terms of $x_1$ and $x_2$ up to the sixth power.\n",
        "\n"
      ]
    },
    {
      "cell_type": "code",
      "execution_count": null,
      "metadata": {
        "id": "cQwU_upAYNDa",
        "colab": {
          "base_uri": "https://localhost:8080/"
        },
        "outputId": "eb4ef4de-e1a5-4107-af38-ba5c3e386764"
      },
      "outputs": [
        {
          "output_type": "stream",
          "name": "stdout",
          "text": [
            "(118, 28)\n"
          ]
        }
      ],
      "source": [
        "def map_feature(x1, x2):\n",
        "    \"\"\"\n",
        "    Feature mapping function to polynomial features.\n",
        "\n",
        "    Maps the two input features to polynomial features up to the sixth power.\n",
        "    Returns a new feature array with more features, comprising of\n",
        "    x1, x2, x1^2, x2^2, x1*x2, x1*x2^2, etc.\n",
        "\n",
        "    Parameters\n",
        "    ----------\n",
        "    x1 : array_like\n",
        "        A vector of shape (m,) representing the first feature.\n",
        "    x2 : array_like\n",
        "        A vector of shape (m,) representing the second feature.\n",
        "\n",
        "    Returns\n",
        "    -------\n",
        "    array_like\n",
        "        A matrix of shape (m, 28) with the polynomial features.\n",
        "    \"\"\"\n",
        "    degree = 6\n",
        "    if x1.ndim > 0:\n",
        "        out = [np.ones(x1.shape[0])]\n",
        "    else:\n",
        "        out = [np.ones(1)]\n",
        "\n",
        "    for i in range(1, degree + 1):\n",
        "        for j in range(i + 1):\n",
        "            out.append((x1 ** (i - j)) * (x2 ** j))\n",
        "\n",
        "    return np.stack(out, axis=1)\n",
        "\n",
        "# Example usage\n",
        "X = np.array(microchips[[\"First_Test\", \"Second_Test\"]])\n",
        "x1 = X[:, 0]\n",
        "x2 = X[:, 1]\n",
        "\n",
        "mapped_X = map_feature(x1, x2)\n",
        "print(mapped_X.shape)  # Should print (number_of_samples, 28)\n"
      ]
    },
    {
      "cell_type": "code",
      "execution_count": null,
      "metadata": {
        "id": "JC9PG14jYNDb"
      },
      "outputs": [],
      "source": [
        "def map_feature(X1, X2, degree=6):\n",
        "    \"\"\"\n",
        "    Maps the two input features to quadratic features used in the regularization exercise.\n",
        "\n",
        "    Returns a new feature array with more features, comprising of\n",
        "    X1, X2, X1.^2, X2.^2, X1*X2, X1*X2.^2, etc..\n",
        "\n",
        "    Parameters\n",
        "    ----------\n",
        "    X1 : array_like\n",
        "        A vector of shape (m, 1), containing one feature for all examples.\n",
        "\n",
        "    X2 : array_like\n",
        "        A vector of shape (m, 1), containing a second feature for all examples.\n",
        "        Inputs X1, X2 must be the same size.\n",
        "\n",
        "    degree: int, optional\n",
        "        The polynomial degree.\n",
        "\n",
        "    Returns\n",
        "    -------\n",
        "    : array_like\n",
        "        A matrix of of m rows, and columns depend on the degree of polynomial.\n",
        "    \"\"\"\n",
        "    if X1.ndim == 1:\n",
        "        X1 = X1[:, np.newaxis]\n",
        "    if X2.ndim == 1:\n",
        "        X2 = X2[:, np.newaxis]\n",
        "\n",
        "    out = np.ones((X1.shape[0], 1))  # Initialize the output with the bias term (ones)\n",
        "\n",
        "    for i in range(1, degree + 1):\n",
        "        for j in range(i + 1):\n",
        "            term = (X1 ** (i - j)) * (X2 ** j)\n",
        "            out = np.hstack((out, term))\n",
        "\n",
        "    return out\n"
      ]
    },
    {
      "cell_type": "code",
      "execution_count": null,
      "metadata": {
        "id": "Q5qAv3_WYNDb"
      },
      "outputs": [],
      "source": [
        "X = map_feature(X[:,0], X[:,1])"
      ]
    },
    {
      "cell_type": "markdown",
      "metadata": {
        "id": "pD0w2XM0YNDf"
      },
      "source": [
        "### 2.3 Cost function and gradient\n",
        "Note that the parameter $\\theta_0$ represents the bias term in the model's weights.\n"
      ]
    },
    {
      "cell_type": "code",
      "execution_count": null,
      "metadata": {
        "id": "-eHcBN20YNDg"
      },
      "outputs": [],
      "source": [
        "def cost_function_gradient_descent_regularized(theta, X, y, lambda_):\n",
        "    \"\"\"\n",
        "    Compute cost and gradient for logistic regression with regularization.\n",
        "\n",
        "    Parameters\n",
        "    ----------\n",
        "    theta : array_like\n",
        "        Logistic regression parameters. A vector with shape (n, ). n is\n",
        "        the number of features including any intercept. If we have mapped\n",
        "        our initial features into polynomial features, then n is the total\n",
        "        number of polynomial features.\n",
        "\n",
        "    X : array_like\n",
        "        The data set with shape (m x n). m is the number of examples, and\n",
        "        n is the number of features (after feature mapping).\n",
        "\n",
        "    y : array_like\n",
        "        The data labels. A vector with shape (m, ).\n",
        "\n",
        "    lambda_ : float\n",
        "        The regularization parameter.\n",
        "\n",
        "    Returns\n",
        "    -------\n",
        "    J : float\n",
        "        The computed value for the regularized cost function.\n",
        "\n",
        "    grad : array_like\n",
        "        A vector of shape (n, ) which is the gradient of the cost\n",
        "        function with respect to theta, at the current values of theta.\n",
        "    \"\"\"\n",
        "    # Initialize some useful values\n",
        "    m = y.size  # number of training examples\n",
        "\n",
        "    # You need to return the following variables correctly\n",
        "\n",
        "\n",
        "    # =============================================================\n",
        "    return J, grad"
      ]
    },
    {
      "cell_type": "markdown",
      "metadata": {
        "id": "FXw3P0o2YNDj"
      },
      "source": [
        "#### 2.3.1 Learning parameters using momentum\n",
        "\n",
        "Similar to the previous parts, you will optimize the Regularized logistic regression using the momentum algorithm optimize the model with $\\lambda = 1$, $\\lambda = 0$"
      ]
    },
    {
      "cell_type": "code",
      "execution_count": null,
      "metadata": {
        "id": "kp8TarLvYNDk"
      },
      "outputs": [],
      "source": [
        "def train_using_momentum(theta, X, y, learning_rate,beta,lmbda, epochs=100):\n",
        "    \"\"\"\n",
        "    Perform gradient deacent with momentum to train the Regularized logistic regression model.\n",
        "    \"\"\"\n",
        "    pass"
      ]
    },
    {
      "cell_type": "code",
      "source": [
        "def predict(theta, X):\n",
        "    # Check if theta includes a bias term, if not, add bias column to X\n",
        "    if len(theta) != X.shape[1]:\n",
        "        X = np.c_[np.ones(X.shape[0]), X]  # Add bias column\n",
        "\n",
        "    # Compute the hypothesis\n",
        "    h = sigmoid(np.dot(X, theta))\n",
        "\n",
        "    # Apply threshold of 0.5 to make predictions\n",
        "    return (h >= 0.5).astype(int)"
      ],
      "metadata": {
        "id": "Scsx1HeSOMlO"
      },
      "execution_count": null,
      "outputs": []
    },
    {
      "cell_type": "code",
      "execution_count": null,
      "metadata": {
        "id": "7QX-5uUSnjZu",
        "colab": {
          "base_uri": "https://localhost:8080/"
        },
        "outputId": "17e12842-77aa-4084-9e1c-341f25529801"
      },
      "outputs": [
        {
          "output_type": "stream",
          "name": "stdout",
          "text": [
            "Train Accuracy: 100.0%\n",
            "Expected accuracy (with lambda = 1): 83.1% (approx)\n",
            "\n"
          ]
        }
      ],
      "source": [
        "\n",
        "def predict(theta, X):\n",
        "    \"\"\"\n",
        "    Predict whether the label is 0 or 1 using learned logistic regression.\n",
        "    Computes the predictions for X using a threshold at 0.5\n",
        "    (i.e., if sigmoid(theta.T*x) >= 0.5, predict 1)\n",
        "\n",
        "    Parameters\n",
        "    ----------\n",
        "    theta : array_like\n",
        "        Parameters for logistic regression. A vector of shape (n+1, ).\n",
        "\n",
        "    X : array_like\n",
        "        The data to use for computing predictions. The rows is the number\n",
        "        of points to compute predictions, and columns is the number of\n",
        "        features.\n",
        "\n",
        "    Returns\n",
        "    -------\n",
        "    p : array_like\n",
        "        Predictions and 0 or 1 for each row in X.\n",
        "    \"\"\"\n",
        "    # Add intercept term to X if not already added\n",
        "    if X.shape[1] == len(theta) - 1:\n",
        "        X = np.concatenate([np.ones((len(X), 1)), X], axis=1)\n",
        "\n",
        "    # Compute the hypothesis\n",
        "    h = sigmoid(np.dot(X, theta))\n",
        "\n",
        "    # Apply threshold of 0.5 to make predictions\n",
        "    p = h >= 0.5\n",
        "\n",
        "    # Convert boolean array to integers (0 or 1)\n",
        "    p = p.astype(int)\n",
        "\n",
        "    return p\n",
        "\n",
        "# Example usage\n",
        "# Assuming theta_optimized is already learned\n",
        "theta_optimized = np.array([-25.1613, 0.2062, 0.2015])\n",
        "\n",
        "X_train = np.array([\n",
        "    [34.623660, 78.024693],\n",
        "    [30.286711, 43.894998],\n",
        "    [35.847409, 72.902198],\n",
        "    [60.182599, 86.308552],\n",
        "    [79.032736, 75.344376]\n",
        "])\n",
        "y_train = np.array([0, 0, 0, 1, 1])\n",
        "\n",
        "# Add intercept term to training data\n",
        "X_train = np.concatenate([np.ones((X_train.shape[0], 1)), X_train], axis=1)\n",
        "\n",
        "# Compute accuracy on our training set\n",
        "model_predicted = predict(theta_optimized, X_train)\n",
        "\n",
        "print(\"Train Accuracy: {:.1f}%\".format(np.mean(model_predicted == y_train) * 100))\n",
        "print(\"Expected accuracy (with lambda = 1): 83.1% (approx)\\n\")\n"
      ]
    },
    {
      "cell_type": "markdown",
      "metadata": {
        "id": "ez6-vws5njuV"
      },
      "source": [
        "### plot the decision boundery for $\\lambda =1$\n",
        "\n",
        "\n"
      ]
    },
    {
      "cell_type": "code",
      "source": [
        "pos = y == 1\n",
        "neg = y == 0\n"
      ],
      "metadata": {
        "id": "pmleZQtqV1cP"
      },
      "execution_count": null,
      "outputs": []
    },
    {
      "cell_type": "code",
      "execution_count": null,
      "metadata": {
        "id": "fLCxtoSuYNDn",
        "colab": {
          "base_uri": "https://localhost:8080/",
          "height": 468
        },
        "outputId": "1182ced2-9b28-4415-c981-57e0a27556c1"
      },
      "outputs": [
        {
          "output_type": "stream",
          "name": "stdout",
          "text": [
            "An error occurred: shapes (10000,28) and (4,) not aligned: 28 (dim 1) != 4 (dim 0)\n"
          ]
        },
        {
          "output_type": "display_data",
          "data": {
            "text/plain": [
              "<Figure size 640x480 with 1 Axes>"
            ],
            "image/png": "[encoded data removed]"
          },
          "metadata": {}
        }
      ],
      "source": [
        "def plot_decision_boundary(theta, X, y):\n",
        "    \"\"\"\n",
        "    Plot the decision boundary for logistic regression.\n",
        "\n",
        "    Parameters\n",
        "    ----------\n",
        "    theta : array_like\n",
        "        Logistic regression parameters. A vector with shape (n, 1).\n",
        "\n",
        "    X : array_like\n",
        "        The data set with shape (m x n). m is the number of examples, and\n",
        "        n is the number of features (after feature mapping).\n",
        "\n",
        "    y : array_like\n",
        "        The data labels. A vector with shape (m, ).\n",
        "\n",
        "    Returns\n",
        "    -------\n",
        "    None\n",
        "    \"\"\"\n",
        "    try:\n",
        "        # Plot data points\n",
        "        pos = y == 1\n",
        "        neg = y == 0\n",
        "        plt.scatter(X[pos][:, 1], X[pos][:, 2], marker='o', c='b', label='Accepted')\n",
        "        plt.scatter(X[neg][:, 1], X[neg][:, 2], marker='x', c='r', label='Rejected')\n",
        "\n",
        "        # Define the range of X and Y values\n",
        "        x1_min, x1_max = X[:,1].min() - 1, X[:,1].max() + 1\n",
        "        x2_min, x2_max = X[:,2].min() - 1, X[:,2].max() + 1\n",
        "        xx1, xx2 = np.meshgrid(np.linspace(x1_min, x1_max, 100), np.linspace(x2_min, x2_max, 100))\n",
        "\n",
        "        # Map features to polynomial features\n",
        "        X_poly = map_feature(xx1.ravel(), xx2.ravel())\n",
        "\n",
        "        # Compute predictions on mesh grid\n",
        "        z = np.dot(X_poly, theta)\n",
        "        h = sigmoid(z)\n",
        "        h = h.reshape(xx1.shape)\n",
        "\n",
        "        # Plot decision boundary\n",
        "        plt.contour(xx1, xx2, h, [0.5], linewidths=1, colors='g')\n",
        "\n",
        "        # Labels and legend\n",
        "        plt.xlabel('First Test')\n",
        "        plt.ylabel('Second Test')\n",
        "        plt.legend(loc='upper right')\n",
        "        plt.title('Decision Boundary with $\\lambda = 1$')\n",
        "        plt.show()\n",
        "    except Exception as e:\n",
        "        print(f\"An error occurred: {str(e)}\")\n",
        "\n",
        "# Assuming theta_optimized is the learned parameters after training\n",
        "# Assuming X is the input data matrix and y is the true labels\n",
        "\n",
        "plot_decision_boundary(theta_optimized.flatten(), X, y)"
      ]
    },
    {
      "cell_type": "markdown",
      "metadata": {
        "id": "y7Hwiwl1n0gw"
      },
      "source": [
        "### plot the decision boundery for $\\lambda=0$\n",
        "\n",
        "\n"
      ]
    },
    {
      "cell_type": "code",
      "execution_count": null,
      "metadata": {
        "id": "fTtYgud7YNDp"
      },
      "outputs": [],
      "source": [
        "pos = y == 1\n",
        "neg = y == 0\n",
        "\n"
      ]
    },
    {
      "cell_type": "code",
      "execution_count": null,
      "metadata": {
        "id": "udsq0xOKYNDp",
        "colab": {
          "base_uri": "https://localhost:8080/",
          "height": 503
        },
        "outputId": "490487e4-a2bc-4ca3-e99a-18fb0785bd27"
      },
      "outputs": [
        {
          "output_type": "stream",
          "name": "stderr",
          "text": [
            "/usr/local/lib/python3.10/dist-packages/sklearn/linear_model/_logistic.py:1173: FutureWarning: `penalty='none'`has been deprecated in 1.2 and will be removed in 1.4. To keep the past behaviour, set `penalty=None`.\n",
            "  warnings.warn(\n"
          ]
        },
        {
          "output_type": "stream",
          "name": "stdout",
          "text": [
            "An error occurred: shapes (10000,28) and (4,) not aligned: 28 (dim 1) != 4 (dim 0)\n"
          ]
        },
        {
          "output_type": "display_data",
          "data": {
            "text/plain": [
              "<Figure size 640x480 with 1 Axes>"
            ],
            "image/png": "[encoded data removed]"
          },
          "metadata": {}
        }
      ],
      "source": [
        "# Assuming X_train and y_train are your training data\n",
        "from sklearn.linear_model import LogisticRegression\n",
        "\n",
        "model_lambda0 = LogisticRegression(penalty='none')  # No regularization (lambda = 0)\n",
        "model_lambda0.fit(X_train, y_train)\n",
        "\n",
        "# Get optimized parameters\n",
        "theta_optimized_lambda0 = np.concatenate([model_lambda0.intercept_, model_lambda0.coef_.flatten()])\n",
        "\n",
        "# Now you can plot the decision boundary\n",
        "plot_decision_boundary(theta_optimized_lambda0, X, y)\n"
      ]
    }
  ],
  "metadata": {
    "colab": {
      "provenance": []
    },
    "kernelspec": {
      "display_name": "Python 3",
      "language": "python",
      "name": "python3"
    },
    "language_info": {
      "codemirror_mode": {
        "name": "ipython",
        "version": 3
      },
      "file_extension": ".py",
      "mimetype": "text/x-python",
      "name": "python",
      "nbconvert_exporter": "python",
      "pygments_lexer": "ipython3",
      "version": "3.7.7"
    }
  },
  "nbformat": 4,
  "nbformat_minor": 0
}