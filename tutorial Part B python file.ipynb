{
 "cells": [
  {
   "cell_type": "markdown",
   "id": "53c0c813",
   "metadata": {},
   "source": [
    "# Step #1: Run a Python program"
   ]
  },
  {
   "cell_type": "code",
   "execution_count": 1,
   "id": "d503fc17",
   "metadata": {},
   "outputs": [
    {
     "name": "stdout",
     "output_type": "stream",
     "text": [
      "hello world\n"
     ]
    }
   ],
   "source": [
    "message = \"hello\";\n",
    "print(message+\" world\");"
   ]
  },
  {
   "cell_type": "code",
   "execution_count": 2,
   "id": "c71d330c",
   "metadata": {},
   "outputs": [
    {
     "name": "stdout",
     "output_type": "stream",
     "text": [
      "enter your name: Dancun\n",
      "enter an int: 2\n",
      "enter a float: 3\n",
      "Dancun 2 3.0\n"
     ]
    }
   ],
   "source": [
    "x = input(\"enter your name: \")\n",
    "y = int(input(\"enter an int: \"))\n",
    "z = float(input(\"enter a float: \"))\n",
    "print (x,y,z)"
   ]
  },
  {
   "cell_type": "markdown",
   "id": "f0aaae85",
   "metadata": {},
   "source": [
    "# Step #2:  User Input with Conditionals"
   ]
  },
  {
   "cell_type": "code",
   "execution_count": 4,
   "id": "83fa894d",
   "metadata": {},
   "outputs": [
    {
     "name": "stdout",
     "output_type": "stream",
     "text": [
      "enter your name: dancun\n",
      "enter an int: 2\n",
      "enter a float: 4\n",
      "Welcome dancun!\n"
     ]
    }
   ],
   "source": [
    "x = input(\"enter your name: \")\n",
    "y = int(input(\"enter an int: \"))\n",
    "z = float(input(\"enter a float: \"))\n",
    "if x == 'dancun':\n",
    "    print ('Welcome dancun!')\n",
    "else:\n",
    "    print ('Welcome earthling!')"
   ]
  },
  {
   "cell_type": "markdown",
   "id": "da77f593",
   "metadata": {},
   "source": [
    "# Step #3: Using Loops"
   ]
  },
  {
   "cell_type": "code",
   "execution_count": 5,
   "id": "c8ae63b9",
   "metadata": {},
   "outputs": [
    {
     "name": "stdout",
     "output_type": "stream",
     "text": [
      "0 4.0\n",
      "1 4.0\n"
     ]
    }
   ],
   "source": [
    "for i in range(0, y):\n",
    "    print(i, z)\n",
    "    while x != 'dancun':\n",
    "        x = input(\"enter your name a second time: \")\n",
    "        print('Welcome dancun!')"
   ]
  },
  {
   "cell_type": "markdown",
   "id": "00e02a09",
   "metadata": {},
   "source": [
    "# Step #4: Defining Functions"
   ]
  },
  {
   "cell_type": "code",
   "execution_count": 6,
   "id": "b035e145",
   "metadata": {},
   "outputs": [
    {
     "name": "stdout",
     "output_type": "stream",
     "text": [
      "enter your name a third time (using quotes): dancun\n",
      "Welcomedancun\n"
     ]
    }
   ],
   "source": [
    "#Define and use functions in your script.\n",
    "def get_name():\n",
    "    myname = input(\"enter your name a third time (using quotes): \")\n",
    "    return myname\n",
    "name = get_name()\n",
    "print('Welcome' + name)\n",
    "def print_one_greater(x):\n",
    "    print(x + 1)\n",
    "    print_one_greater(y)"
   ]
  },
  {
   "cell_type": "markdown",
   "id": "4131a878",
   "metadata": {},
   "source": [
    "# Step #5: Working with Lists"
   ]
  },
  {
   "cell_type": "code",
   "execution_count": 9,
   "id": "f9e2b038",
   "metadata": {},
   "outputs": [
    {
     "name": "stdout",
     "output_type": "stream",
     "text": [
      "1 jan\n",
      "2 feb\n",
      "3 mar\n",
      "4 apr\n",
      "5 may\n",
      "6 jun\n",
      "7 jul\n",
      "8 aug\n",
      "9 sep\n",
      "10 oct\n",
      "11 nov\n",
      "12 dec\n"
     ]
    }
   ],
   "source": [
    "#Implement list usage in your script.\n",
    "months = ['jan', 'feb', 'mar', 'apr', 'may', 'jun', 'jul', 'aug', 'sep', 'oct', 'nov', 'dec']\n",
    "for i, month in enumerate(months, start=1):\n",
    "    print(i, month)"
   ]
  },
  {
   "cell_type": "markdown",
   "id": "99a956ec",
   "metadata": {},
   "source": [
    "# Step #6: Utilizing Dictionaries"
   ]
  },
  {
   "cell_type": "code",
   "execution_count": 10,
   "id": "b8d92f0d",
   "metadata": {},
   "outputs": [
    {
     "name": "stdout",
     "output_type": "stream",
     "text": [
      "1 January\n",
      "2 February\n",
      "3 March\n",
      "4 April\n",
      "5 May\n",
      "6 June\n",
      "7 July\n",
      "8 August\n",
      "9 September\n",
      "10 October\n",
      "11 November\n",
      "12 December\n"
     ]
    }
   ],
   "source": [
    "#Utilize dictionaries in your script.\n",
    "months2 = {'jan': 'January', 'feb': 'Febuary', 'mar': 'March', 'apr': 'April', 'may': 'May', 'jun': 'June','jul': 'July', 'aug': 'August', 'sep': 'September', 'oct': 'October', 'nov': 'November', 'dec': 'December'}\n",
    " \n",
    "# Correct the misspelling of 'February'\n",
    "months2['feb'] = 'February'\n",
    "for i, month in enumerate(months, start=1):\n",
    "    print(i, months2[month])"
   ]
  },
  {
   "cell_type": "markdown",
   "id": "e834626e",
   "metadata": {},
   "source": [
    "# Step #7: File Input"
   ]
  },
  {
   "cell_type": "code",
   "execution_count": null,
   "id": "29984cfe",
   "metadata": {},
   "outputs": [],
   "source": [
    "#Create a new dataset file, `data.txt`, with the provided values.\n",
    "\n",
    "   -1\n",
    "   0\n",
    "   1\n",
    "   2\n",
    "   3\n",
    "   4\n",
    "   5"
   ]
  },
  {
   "cell_type": "code",
   "execution_count": 13,
   "id": "ec929094",
   "metadata": {},
   "outputs": [
    {
     "name": "stdout",
     "output_type": "stream",
     "text": [
      "['-1', '0', '1', '2', '3', '4', '5']\n"
     ]
    }
   ],
   "source": [
    "# Read and print the file's content in your script.\n",
    "filename = \"data.txt\"\n",
    "with open(filename) as fin:\n",
    "    content = fin.read().splitlines()\n",
    "    print(content)"
   ]
  },
  {
   "cell_type": "markdown",
   "id": "88b7584f",
   "metadata": {},
   "source": [
    "# Step #8: File Output"
   ]
  },
  {
   "cell_type": "code",
   "execution_count": 16,
   "id": "d4bde327",
   "metadata": {},
   "outputs": [],
   "source": [
    "#Write the converted Celsius to Fahrenheit values to a new output file, `data2.txt`.\n",
    "fout = open(\"data2.txt\", \"w\")\n",
    "for line in content:\n",
    "    celsius = float(line)\n",
    "    fahrenheit = (celsius * 9 / 5) + 32\n",
    "    fout.write(str(fahrenheit) + \"\\n\")\n",
    "fout.close()"
   ]
  },
  {
   "cell_type": "markdown",
   "id": "0e654bdd",
   "metadata": {},
   "source": [
    "# Step #9: Optional - Celsius to Fahrenheit Converter"
   ]
  },
  {
   "cell_type": "code",
   "execution_count": 17,
   "id": "a95a8637",
   "metadata": {},
   "outputs": [
    {
     "name": "stdout",
     "output_type": "stream",
     "text": [
      "30.2\n",
      "32.0\n",
      "33.8\n",
      "35.6\n",
      "37.4\n",
      "39.2\n",
      "41.0\n"
     ]
    }
   ],
   "source": [
    "#Create a new Python program, e.g., `ctof.py`, with the following code to convert Celsius to Fahrenheit one line at a time.\n",
    "with open(\"data.txt\") as fin:\n",
    "    for line in fin:\n",
    "        celsius = float(line)\n",
    "        fahrenheit = (celsius * 9 / 5) + 32\n",
    "        print(fahrenheit)"
   ]
  },
  {
   "cell_type": "code",
   "execution_count": null,
   "id": "f46606c6",
   "metadata": {},
   "outputs": [],
   "source": []
  }
 ],
 "metadata": {
  "kernelspec": {
   "display_name": "Python 3 (ipykernel)",
   "language": "python",
   "name": "python3"
  },
  "language_info": {
   "codemirror_mode": {
    "name": "ipython",
    "version": 3
   },
   "file_extension": ".py",
   "mimetype": "text/x-python",
   "name": "python",
   "nbconvert_exporter": "python",
   "pygments_lexer": "ipython3",
   "version": "3.11.4"
  }
 },
 "nbformat": 4,
 "nbformat_minor": 5
}
